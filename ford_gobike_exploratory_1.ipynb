{
 "cells": [
  {
   "cell_type": "markdown",
   "metadata": {
    "slideshow": {
     "slide_type": "slide"
    }
   },
   "source": [
    "# Part I - Ford GoBike Sharing Data Exploration\n",
    "## by Ezemonye Ordu Omereji\n",
    "\n",
    "\n",
    "\n",
    "## Table of Contents\n",
    "<ul>\n",
    "<li><a href=\"#intro\">Introduction</a></li>\n",
    "<li><a href=\"#wrangling\">Data Wrangling</a></li>\n",
    "<li><a href=\"#explore\">Exploratory Data Analysis</a></li>\n",
    "<li><a href=\"#conclusions\">Conclusion</a></li>\n",
    "</ul>"
   ]
  },
  {
   "cell_type": "markdown",
   "metadata": {
    "slideshow": {
     "slide_type": "slide"
    }
   },
   "source": [
    "<a id='intro'></a>\n",
    "## Introduction\n",
    "> This document contains exploratory analysis of the Ford GoBike Sharing dataset which includes data related to individual rides made in February, 2019 covering the greater San Francisco Bay area.\n",
    "\n",
    "## Preliminary Wrangling\n"
   ]
  },
  {
   "cell_type": "code",
   "execution_count": 263,
   "metadata": {
    "slideshow": {
     "slide_type": "subslide"
    }
   },
   "outputs": [],
   "source": [
    "# import prerequisite packages and set the inline plot property\n",
    "import pandas as pd\n",
    "import numpy as np\n",
    "import seaborn as sb\n",
    "import matplotlib.pyplot as plt\n",
    "\n",
    "%matplotlib inline"
   ]
  },
  {
   "cell_type": "code",
   "execution_count": 264,
   "metadata": {
    "slideshow": {
     "slide_type": "subslide"
    }
   },
   "outputs": [],
   "source": [
    "#load dataset into pd dataframe and view summary statistics\n",
    "bike_sharing = pd.read_csv('fordgobike_tripdata.csv') #originally 201902-fordgobike-tripdata.csv"
   ]
  },
  {
   "cell_type": "code",
   "execution_count": 265,
   "metadata": {
    "slideshow": {
     "slide_type": "subslide"
    }
   },
   "outputs": [
    {
     "name": "stdout",
     "output_type": "stream",
     "text": [
      "(183412, 16)\n",
      "<class 'pandas.core.frame.DataFrame'>\n",
      "RangeIndex: 183412 entries, 0 to 183411\n",
      "Data columns (total 16 columns):\n",
      " #   Column                   Non-Null Count   Dtype  \n",
      "---  ------                   --------------   -----  \n",
      " 0   duration_sec             183412 non-null  int64  \n",
      " 1   start_time               183412 non-null  object \n",
      " 2   end_time                 183412 non-null  object \n",
      " 3   start_station_id         183215 non-null  float64\n",
      " 4   start_station_name       183215 non-null  object \n",
      " 5   start_station_latitude   183412 non-null  float64\n",
      " 6   start_station_longitude  183412 non-null  float64\n",
      " 7   end_station_id           183215 non-null  float64\n",
      " 8   end_station_name         183215 non-null  object \n",
      " 9   end_station_latitude     183412 non-null  float64\n",
      " 10  end_station_longitude    183412 non-null  float64\n",
      " 11  bike_id                  183412 non-null  int64  \n",
      " 12  user_type                183412 non-null  object \n",
      " 13  member_birth_year        175147 non-null  float64\n",
      " 14  member_gender            175147 non-null  object \n",
      " 15  bike_share_for_all_trip  183412 non-null  object \n",
      "dtypes: float64(7), int64(2), object(7)\n",
      "memory usage: 22.4+ MB\n"
     ]
    },
    {
     "data": {
      "text/html": [
       "<div>\n",
       "<style scoped>\n",
       "    .dataframe tbody tr th:only-of-type {\n",
       "        vertical-align: middle;\n",
       "    }\n",
       "\n",
       "    .dataframe tbody tr th {\n",
       "        vertical-align: top;\n",
       "    }\n",
       "\n",
       "    .dataframe thead th {\n",
       "        text-align: right;\n",
       "    }\n",
       "</style>\n",
       "<table border=\"1\" class=\"dataframe\">\n",
       "  <thead>\n",
       "    <tr style=\"text-align: right;\">\n",
       "      <th></th>\n",
       "      <th>duration_sec</th>\n",
       "      <th>start_time</th>\n",
       "      <th>end_time</th>\n",
       "      <th>start_station_id</th>\n",
       "      <th>start_station_name</th>\n",
       "      <th>start_station_latitude</th>\n",
       "      <th>start_station_longitude</th>\n",
       "      <th>end_station_id</th>\n",
       "      <th>end_station_name</th>\n",
       "      <th>end_station_latitude</th>\n",
       "      <th>end_station_longitude</th>\n",
       "      <th>bike_id</th>\n",
       "      <th>user_type</th>\n",
       "      <th>member_birth_year</th>\n",
       "      <th>member_gender</th>\n",
       "      <th>bike_share_for_all_trip</th>\n",
       "    </tr>\n",
       "  </thead>\n",
       "  <tbody>\n",
       "    <tr>\n",
       "      <th>0</th>\n",
       "      <td>52185</td>\n",
       "      <td>2019-02-28 17:32:10.1450</td>\n",
       "      <td>2019-03-01 08:01:55.9750</td>\n",
       "      <td>21.0</td>\n",
       "      <td>Montgomery St BART Station (Market St at 2nd St)</td>\n",
       "      <td>37.789625</td>\n",
       "      <td>-122.400811</td>\n",
       "      <td>13.0</td>\n",
       "      <td>Commercial St at Montgomery St</td>\n",
       "      <td>37.794231</td>\n",
       "      <td>-122.402923</td>\n",
       "      <td>4902</td>\n",
       "      <td>Customer</td>\n",
       "      <td>1984.0</td>\n",
       "      <td>Male</td>\n",
       "      <td>No</td>\n",
       "    </tr>\n",
       "    <tr>\n",
       "      <th>1</th>\n",
       "      <td>42521</td>\n",
       "      <td>2019-02-28 18:53:21.7890</td>\n",
       "      <td>2019-03-01 06:42:03.0560</td>\n",
       "      <td>23.0</td>\n",
       "      <td>The Embarcadero at Steuart St</td>\n",
       "      <td>37.791464</td>\n",
       "      <td>-122.391034</td>\n",
       "      <td>81.0</td>\n",
       "      <td>Berry St at 4th St</td>\n",
       "      <td>37.775880</td>\n",
       "      <td>-122.393170</td>\n",
       "      <td>2535</td>\n",
       "      <td>Customer</td>\n",
       "      <td>NaN</td>\n",
       "      <td>NaN</td>\n",
       "      <td>No</td>\n",
       "    </tr>\n",
       "    <tr>\n",
       "      <th>2</th>\n",
       "      <td>61854</td>\n",
       "      <td>2019-02-28 12:13:13.2180</td>\n",
       "      <td>2019-03-01 05:24:08.1460</td>\n",
       "      <td>86.0</td>\n",
       "      <td>Market St at Dolores St</td>\n",
       "      <td>37.769305</td>\n",
       "      <td>-122.426826</td>\n",
       "      <td>3.0</td>\n",
       "      <td>Powell St BART Station (Market St at 4th St)</td>\n",
       "      <td>37.786375</td>\n",
       "      <td>-122.404904</td>\n",
       "      <td>5905</td>\n",
       "      <td>Customer</td>\n",
       "      <td>1972.0</td>\n",
       "      <td>Male</td>\n",
       "      <td>No</td>\n",
       "    </tr>\n",
       "    <tr>\n",
       "      <th>3</th>\n",
       "      <td>36490</td>\n",
       "      <td>2019-02-28 17:54:26.0100</td>\n",
       "      <td>2019-03-01 04:02:36.8420</td>\n",
       "      <td>375.0</td>\n",
       "      <td>Grove St at Masonic Ave</td>\n",
       "      <td>37.774836</td>\n",
       "      <td>-122.446546</td>\n",
       "      <td>70.0</td>\n",
       "      <td>Central Ave at Fell St</td>\n",
       "      <td>37.773311</td>\n",
       "      <td>-122.444293</td>\n",
       "      <td>6638</td>\n",
       "      <td>Subscriber</td>\n",
       "      <td>1989.0</td>\n",
       "      <td>Other</td>\n",
       "      <td>No</td>\n",
       "    </tr>\n",
       "    <tr>\n",
       "      <th>4</th>\n",
       "      <td>1585</td>\n",
       "      <td>2019-02-28 23:54:18.5490</td>\n",
       "      <td>2019-03-01 00:20:44.0740</td>\n",
       "      <td>7.0</td>\n",
       "      <td>Frank H Ogawa Plaza</td>\n",
       "      <td>37.804562</td>\n",
       "      <td>-122.271738</td>\n",
       "      <td>222.0</td>\n",
       "      <td>10th Ave at E 15th St</td>\n",
       "      <td>37.792714</td>\n",
       "      <td>-122.248780</td>\n",
       "      <td>4898</td>\n",
       "      <td>Subscriber</td>\n",
       "      <td>1974.0</td>\n",
       "      <td>Male</td>\n",
       "      <td>Yes</td>\n",
       "    </tr>\n",
       "    <tr>\n",
       "      <th>5</th>\n",
       "      <td>1793</td>\n",
       "      <td>2019-02-28 23:49:58.6320</td>\n",
       "      <td>2019-03-01 00:19:51.7600</td>\n",
       "      <td>93.0</td>\n",
       "      <td>4th St at Mission Bay Blvd S</td>\n",
       "      <td>37.770407</td>\n",
       "      <td>-122.391198</td>\n",
       "      <td>323.0</td>\n",
       "      <td>Broadway at Kearny</td>\n",
       "      <td>37.798014</td>\n",
       "      <td>-122.405950</td>\n",
       "      <td>5200</td>\n",
       "      <td>Subscriber</td>\n",
       "      <td>1959.0</td>\n",
       "      <td>Male</td>\n",
       "      <td>No</td>\n",
       "    </tr>\n",
       "    <tr>\n",
       "      <th>6</th>\n",
       "      <td>1147</td>\n",
       "      <td>2019-02-28 23:55:35.1040</td>\n",
       "      <td>2019-03-01 00:14:42.5880</td>\n",
       "      <td>300.0</td>\n",
       "      <td>Palm St at Willow St</td>\n",
       "      <td>37.317298</td>\n",
       "      <td>-121.884995</td>\n",
       "      <td>312.0</td>\n",
       "      <td>San Jose Diridon Station</td>\n",
       "      <td>37.329732</td>\n",
       "      <td>-121.901782</td>\n",
       "      <td>3803</td>\n",
       "      <td>Subscriber</td>\n",
       "      <td>1983.0</td>\n",
       "      <td>Female</td>\n",
       "      <td>No</td>\n",
       "    </tr>\n",
       "    <tr>\n",
       "      <th>7</th>\n",
       "      <td>1615</td>\n",
       "      <td>2019-02-28 23:41:06.7660</td>\n",
       "      <td>2019-03-01 00:08:02.7560</td>\n",
       "      <td>10.0</td>\n",
       "      <td>Washington St at Kearny St</td>\n",
       "      <td>37.795393</td>\n",
       "      <td>-122.404770</td>\n",
       "      <td>127.0</td>\n",
       "      <td>Valencia St at 21st St</td>\n",
       "      <td>37.756708</td>\n",
       "      <td>-122.421025</td>\n",
       "      <td>6329</td>\n",
       "      <td>Subscriber</td>\n",
       "      <td>1989.0</td>\n",
       "      <td>Male</td>\n",
       "      <td>No</td>\n",
       "    </tr>\n",
       "    <tr>\n",
       "      <th>8</th>\n",
       "      <td>1570</td>\n",
       "      <td>2019-02-28 23:41:48.7900</td>\n",
       "      <td>2019-03-01 00:07:59.7150</td>\n",
       "      <td>10.0</td>\n",
       "      <td>Washington St at Kearny St</td>\n",
       "      <td>37.795393</td>\n",
       "      <td>-122.404770</td>\n",
       "      <td>127.0</td>\n",
       "      <td>Valencia St at 21st St</td>\n",
       "      <td>37.756708</td>\n",
       "      <td>-122.421025</td>\n",
       "      <td>6548</td>\n",
       "      <td>Subscriber</td>\n",
       "      <td>1988.0</td>\n",
       "      <td>Other</td>\n",
       "      <td>No</td>\n",
       "    </tr>\n",
       "    <tr>\n",
       "      <th>9</th>\n",
       "      <td>1049</td>\n",
       "      <td>2019-02-28 23:49:47.6990</td>\n",
       "      <td>2019-03-01 00:07:17.0250</td>\n",
       "      <td>19.0</td>\n",
       "      <td>Post St at Kearny St</td>\n",
       "      <td>37.788975</td>\n",
       "      <td>-122.403452</td>\n",
       "      <td>121.0</td>\n",
       "      <td>Mission Playground</td>\n",
       "      <td>37.759210</td>\n",
       "      <td>-122.421339</td>\n",
       "      <td>6488</td>\n",
       "      <td>Subscriber</td>\n",
       "      <td>1992.0</td>\n",
       "      <td>Male</td>\n",
       "      <td>No</td>\n",
       "    </tr>\n",
       "  </tbody>\n",
       "</table>\n",
       "</div>"
      ],
      "text/plain": [
       "   duration_sec                start_time                  end_time  \\\n",
       "0         52185  2019-02-28 17:32:10.1450  2019-03-01 08:01:55.9750   \n",
       "1         42521  2019-02-28 18:53:21.7890  2019-03-01 06:42:03.0560   \n",
       "2         61854  2019-02-28 12:13:13.2180  2019-03-01 05:24:08.1460   \n",
       "3         36490  2019-02-28 17:54:26.0100  2019-03-01 04:02:36.8420   \n",
       "4          1585  2019-02-28 23:54:18.5490  2019-03-01 00:20:44.0740   \n",
       "5          1793  2019-02-28 23:49:58.6320  2019-03-01 00:19:51.7600   \n",
       "6          1147  2019-02-28 23:55:35.1040  2019-03-01 00:14:42.5880   \n",
       "7          1615  2019-02-28 23:41:06.7660  2019-03-01 00:08:02.7560   \n",
       "8          1570  2019-02-28 23:41:48.7900  2019-03-01 00:07:59.7150   \n",
       "9          1049  2019-02-28 23:49:47.6990  2019-03-01 00:07:17.0250   \n",
       "\n",
       "   start_station_id                                start_station_name  \\\n",
       "0              21.0  Montgomery St BART Station (Market St at 2nd St)   \n",
       "1              23.0                     The Embarcadero at Steuart St   \n",
       "2              86.0                           Market St at Dolores St   \n",
       "3             375.0                           Grove St at Masonic Ave   \n",
       "4               7.0                               Frank H Ogawa Plaza   \n",
       "5              93.0                      4th St at Mission Bay Blvd S   \n",
       "6             300.0                              Palm St at Willow St   \n",
       "7              10.0                        Washington St at Kearny St   \n",
       "8              10.0                        Washington St at Kearny St   \n",
       "9              19.0                              Post St at Kearny St   \n",
       "\n",
       "   start_station_latitude  start_station_longitude  end_station_id  \\\n",
       "0               37.789625              -122.400811            13.0   \n",
       "1               37.791464              -122.391034            81.0   \n",
       "2               37.769305              -122.426826             3.0   \n",
       "3               37.774836              -122.446546            70.0   \n",
       "4               37.804562              -122.271738           222.0   \n",
       "5               37.770407              -122.391198           323.0   \n",
       "6               37.317298              -121.884995           312.0   \n",
       "7               37.795393              -122.404770           127.0   \n",
       "8               37.795393              -122.404770           127.0   \n",
       "9               37.788975              -122.403452           121.0   \n",
       "\n",
       "                               end_station_name  end_station_latitude  \\\n",
       "0                Commercial St at Montgomery St             37.794231   \n",
       "1                            Berry St at 4th St             37.775880   \n",
       "2  Powell St BART Station (Market St at 4th St)             37.786375   \n",
       "3                        Central Ave at Fell St             37.773311   \n",
       "4                         10th Ave at E 15th St             37.792714   \n",
       "5                            Broadway at Kearny             37.798014   \n",
       "6                      San Jose Diridon Station             37.329732   \n",
       "7                        Valencia St at 21st St             37.756708   \n",
       "8                        Valencia St at 21st St             37.756708   \n",
       "9                            Mission Playground             37.759210   \n",
       "\n",
       "   end_station_longitude  bike_id   user_type  member_birth_year  \\\n",
       "0            -122.402923     4902    Customer             1984.0   \n",
       "1            -122.393170     2535    Customer                NaN   \n",
       "2            -122.404904     5905    Customer             1972.0   \n",
       "3            -122.444293     6638  Subscriber             1989.0   \n",
       "4            -122.248780     4898  Subscriber             1974.0   \n",
       "5            -122.405950     5200  Subscriber             1959.0   \n",
       "6            -121.901782     3803  Subscriber             1983.0   \n",
       "7            -122.421025     6329  Subscriber             1989.0   \n",
       "8            -122.421025     6548  Subscriber             1988.0   \n",
       "9            -122.421339     6488  Subscriber             1992.0   \n",
       "\n",
       "  member_gender bike_share_for_all_trip  \n",
       "0          Male                      No  \n",
       "1           NaN                      No  \n",
       "2          Male                      No  \n",
       "3         Other                      No  \n",
       "4          Male                     Yes  \n",
       "5          Male                      No  \n",
       "6        Female                      No  \n",
       "7          Male                      No  \n",
       "8         Other                      No  \n",
       "9          Male                      No  "
      ]
     },
     "execution_count": 265,
     "metadata": {},
     "output_type": "execute_result"
    }
   ],
   "source": [
    "# data shape, types and formation\n",
    "print(bike_sharing.shape)\n",
    "bike_sharing.info()\n",
    "bike_sharing.head(10)"
   ]
  },
  {
   "cell_type": "code",
   "execution_count": 266,
   "metadata": {
    "slideshow": {
     "slide_type": "subslide"
    }
   },
   "outputs": [
    {
     "data": {
      "text/plain": [
       "duration_sec                  0\n",
       "start_time                    0\n",
       "end_time                      0\n",
       "start_station_id            197\n",
       "start_station_name          197\n",
       "start_station_latitude        0\n",
       "start_station_longitude       0\n",
       "end_station_id              197\n",
       "end_station_name            197\n",
       "end_station_latitude          0\n",
       "end_station_longitude         0\n",
       "bike_id                       0\n",
       "user_type                     0\n",
       "member_birth_year          8265\n",
       "member_gender              8265\n",
       "bike_share_for_all_trip       0\n",
       "dtype: int64"
      ]
     },
     "execution_count": 266,
     "metadata": {},
     "output_type": "execute_result"
    }
   ],
   "source": [
    "#checking for number of null values per feature\n",
    "bike_sharing.isnull().sum()"
   ]
  },
  {
   "cell_type": "code",
   "execution_count": 267,
   "metadata": {
    "slideshow": {
     "slide_type": "subslide"
    }
   },
   "outputs": [
    {
     "data": {
      "text/plain": [
       "0"
      ]
     },
     "execution_count": 267,
     "metadata": {},
     "output_type": "execute_result"
    }
   ],
   "source": [
    "#checking for duplicated values in dataframe\n",
    "bike_sharing.duplicated().sum()"
   ]
  },
  {
   "cell_type": "code",
   "execution_count": 268,
   "metadata": {
    "slideshow": {
     "slide_type": "subslide"
    }
   },
   "outputs": [
    {
     "data": {
      "text/plain": [
       "Male      130651\n",
       "Female     40844\n",
       "Other       3652\n",
       "Name: member_gender, dtype: int64"
      ]
     },
     "execution_count": 268,
     "metadata": {},
     "output_type": "execute_result"
    }
   ],
   "source": [
    "#checking for gender representation\n",
    "bike_sharing.member_gender.value_counts()"
   ]
  },
  {
   "cell_type": "code",
   "execution_count": 269,
   "metadata": {
    "slideshow": {
     "slide_type": "subslide"
    }
   },
   "outputs": [
    {
     "data": {
      "text/plain": [
       "Subscriber    163544\n",
       "Customer       19868\n",
       "Name: user_type, dtype: int64"
      ]
     },
     "execution_count": 269,
     "metadata": {},
     "output_type": "execute_result"
    }
   ],
   "source": [
    "#checking for member status representation\n",
    "bike_sharing.user_type.value_counts()"
   ]
  },
  {
   "cell_type": "markdown",
   "metadata": {
    "slideshow": {
     "slide_type": "slide"
    }
   },
   "source": [
    "### Observations\n",
    "> 1. There are 10 columns without null values and 6 columns having a few hundreds and thousands of null values.\n",
    "> 2. There are no duplicate values\n",
    "> 3. Males and Subscribers show predominance in the dataset\n",
    "> 4. start_time and end_time are object types. Datetime types are expected.\n",
    "> 5. start_station_id, end_station_id are float types. String type is expected\n",
    "> 6. bike_id is integer. String type expected because no calculations are required with feature\n",
    "> 7. user_type and member_gender are expected category type but have object types\n",
    "> 8. trip duration is in seconds\n",
    "> 9. start_station_latitude, start_station_longitude, end_station_latitude and end_station_longitude appear to be irrelevant to the analysis"
   ]
  },
  {
   "cell_type": "markdown",
   "metadata": {
    "slideshow": {
     "slide_type": "slide"
    }
   },
   "source": [
    "### Structure of the dataset\n",
    "\n",
    "> The data set comprises of 183,412 records of bike trips, with a total of 16 features (duration_sec, start_time, end_time, start_station_id,start_station_name, start_station_latitude,start_station_longitude, end_station_id, end_station_name, end_station_latitude, end_station_longitude, bike_id, user_type,member_birth_year, member_gender, bike_share_for_all_trip)\n",
    "\n",
    "### Main feature(s) of interest in the dataset\n",
    "\n",
    "> My interest points to the features that determine when most rides occur and the factors that affect frequent usage of the bike sharing system.  \n",
    "\n",
    "### Features in the dataset that will help support the investigation into the feature(s) of interest\n",
    "\n",
    "> I envisage that time of day and day of the week will likely impact the most on bike sharing occurances while age, gender and member status will most likely have a lesser impact on this occurances."
   ]
  },
  {
   "cell_type": "markdown",
   "metadata": {
    "slideshow": {
     "slide_type": "slide"
    }
   },
   "source": [
    "<a id='wrangling'></a>\n",
    "## Data Wrangling"
   ]
  },
  {
   "cell_type": "code",
   "execution_count": 270,
   "metadata": {
    "slideshow": {
     "slide_type": "subslide"
    }
   },
   "outputs": [],
   "source": [
    "# duplicate (copy) dataframe\n",
    "bike_sharing_copy = bike_sharing.copy()"
   ]
  },
  {
   "cell_type": "code",
   "execution_count": 271,
   "metadata": {
    "slideshow": {
     "slide_type": "subslide"
    }
   },
   "outputs": [
    {
     "name": "stdout",
     "output_type": "stream",
     "text": [
      "datetime64[ns] datetime64[ns]\n"
     ]
    }
   ],
   "source": [
    "# fixing multiple incorrect dtypes\n",
    "# change start_time and end_time to expected datetime type\n",
    "bike_sharing_copy['start_time'] = pd.to_datetime(bike_sharing_copy['start_time'])\n",
    "bike_sharing_copy['end_time'] = pd.to_datetime(bike_sharing_copy['end_time'])\n",
    "\n",
    "print(bike_sharing_copy['start_time'].dtype,bike_sharing_copy['end_time'].dtype) #confirm conversion of dtypes"
   ]
  },
  {
   "cell_type": "code",
   "execution_count": 272,
   "metadata": {
    "slideshow": {
     "slide_type": "subslide"
    }
   },
   "outputs": [
    {
     "name": "stdout",
     "output_type": "stream",
     "text": [
      "object object\n"
     ]
    }
   ],
   "source": [
    "# change start_station_id, end_station_id to string type\n",
    "bike_sharing_copy['start_station_id'] = bike_sharing_copy['start_station_id'].astype('str')\n",
    "bike_sharing_copy['end_station_id'] = bike_sharing_copy['end_station_id'].astype('str')\n",
    "\n",
    "print(bike_sharing_copy['start_station_id'].dtype, bike_sharing_copy['end_station_id'].dtype) #confirm conversion of dtypes"
   ]
  },
  {
   "cell_type": "code",
   "execution_count": 273,
   "metadata": {
    "slideshow": {
     "slide_type": "subslide"
    }
   },
   "outputs": [
    {
     "name": "stdout",
     "output_type": "stream",
     "text": [
      "object\n",
      "category category\n"
     ]
    }
   ],
   "source": [
    "# change bike_id to expected string type\n",
    "bike_sharing_copy['bike_id'] = bike_sharing_copy['bike_id'].astype('str')\n",
    "\n",
    "# change user_type and member_gender to expected category type\n",
    "bike_sharing_copy['user_type'] = bike_sharing_copy['user_type'].astype('category')\n",
    "bike_sharing_copy['member_gender'] = bike_sharing_copy['member_gender'].astype('category')\n",
    "\n",
    "# confirm conversion of dtypes\n",
    "print(bike_sharing_copy['bike_id'].dtype)\n",
    "print(bike_sharing_copy['user_type'].dtype, bike_sharing_copy['member_gender'].dtype)"
   ]
  },
  {
   "cell_type": "code",
   "execution_count": 274,
   "metadata": {
    "slideshow": {
     "slide_type": "subslide"
    }
   },
   "outputs": [
    {
     "name": "stdout",
     "output_type": "stream",
     "text": [
      "27 days 23:58:57.912000\n"
     ]
    }
   ],
   "source": [
    "# checking for period of trips in the entire dataset\n",
    "start_date_time = bike_sharing_copy['start_time'].min()\n",
    "end_date_time = bike_sharing_copy['start_time'].max()\n",
    "\n",
    "period = end_date_time - start_date_time\n",
    "print(period)"
   ]
  },
  {
   "cell_type": "code",
   "execution_count": 275,
   "metadata": {
    "slideshow": {
     "slide_type": "subslide"
    }
   },
   "outputs": [
    {
     "name": "stdout",
     "output_type": "stream",
     "text": [
      "2019-02-28 23:59:18.548000\n",
      "2019-02-01 00:00:20.636000\n"
     ]
    }
   ],
   "source": [
    "# checking for duration time of the year\n",
    "print(bike_sharing_copy['start_time'].max())\n",
    "print(bike_sharing_copy['start_time'].min())"
   ]
  },
  {
   "cell_type": "markdown",
   "metadata": {
    "slideshow": {
     "slide_type": "subslide"
    }
   },
   "source": [
    "Apparently, all records were in February, 2019."
   ]
  },
  {
   "cell_type": "code",
   "execution_count": 276,
   "metadata": {
    "slideshow": {
     "slide_type": "subslide"
    }
   },
   "outputs": [
    {
     "data": {
      "text/plain": [
       "Index(['duration_sec', 'start_time', 'end_time', 'start_station_id',\n",
       "       'start_station_name', 'end_station_id', 'end_station_name', 'bike_id',\n",
       "       'user_type', 'member_birth_year', 'member_gender',\n",
       "       'bike_share_for_all_trip'],\n",
       "      dtype='object')"
      ]
     },
     "execution_count": 276,
     "metadata": {},
     "output_type": "execute_result"
    }
   ],
   "source": [
    "# drop irrelevant columns with latitudes and longitudes\n",
    "bike_sharing_copy.drop(['start_station_latitude', 'start_station_longitude', 'end_station_latitude', 'end_station_longitude'], axis=1, inplace=True)\n",
    "\n",
    "# confirm drop of columns\n",
    "bike_sharing_copy.columns"
   ]
  },
  {
   "cell_type": "markdown",
   "metadata": {
    "slideshow": {
     "slide_type": "slide"
    }
   },
   "source": [
    "## Feature Engineering\n",
    "\n",
    "Adding new columns for duration in minutes, ride hour of the day, ride day of the week and age of riders\n",
    " * duration_minutes from duration_sec\n",
    " * start_hour from start_time\n",
    " * day_of_the_week from start_time\n",
    " * rider_age from member_birth_year"
   ]
  },
  {
   "cell_type": "code",
   "execution_count": 277,
   "metadata": {
    "slideshow": {
     "slide_type": "subslide"
    }
   },
   "outputs": [],
   "source": [
    "# convert duration of trips(seconds) to minutes, start trip date to 'yyyy-mm-dd' format, extract daily trip hour time and week day into new columns\n",
    "bike_sharing_copy['duration_minutes'] = bike_sharing_copy['duration_sec']/60\n",
    "bike_sharing_copy['start_hour'] = bike_sharing_copy.start_time.dt.strftime('%H')\n",
    "bike_sharing_copy['day_of_week'] = bike_sharing_copy.start_time.dt.strftime('%A')"
   ]
  },
  {
   "cell_type": "code",
   "execution_count": 278,
   "metadata": {
    "slideshow": {
     "slide_type": "subslide"
    }
   },
   "outputs": [
    {
     "data": {
      "text/html": [
       "<div>\n",
       "<style scoped>\n",
       "    .dataframe tbody tr th:only-of-type {\n",
       "        vertical-align: middle;\n",
       "    }\n",
       "\n",
       "    .dataframe tbody tr th {\n",
       "        vertical-align: top;\n",
       "    }\n",
       "\n",
       "    .dataframe thead th {\n",
       "        text-align: right;\n",
       "    }\n",
       "</style>\n",
       "<table border=\"1\" class=\"dataframe\">\n",
       "  <thead>\n",
       "    <tr style=\"text-align: right;\">\n",
       "      <th></th>\n",
       "      <th>duration_sec</th>\n",
       "      <th>start_time</th>\n",
       "      <th>end_time</th>\n",
       "      <th>start_station_id</th>\n",
       "      <th>start_station_name</th>\n",
       "      <th>end_station_id</th>\n",
       "      <th>end_station_name</th>\n",
       "      <th>bike_id</th>\n",
       "      <th>user_type</th>\n",
       "      <th>member_birth_year</th>\n",
       "      <th>member_gender</th>\n",
       "      <th>bike_share_for_all_trip</th>\n",
       "      <th>duration_minutes</th>\n",
       "      <th>start_hour</th>\n",
       "      <th>day_of_week</th>\n",
       "    </tr>\n",
       "  </thead>\n",
       "  <tbody>\n",
       "    <tr>\n",
       "      <th>0</th>\n",
       "      <td>52185</td>\n",
       "      <td>2019-02-28 17:32:10.145</td>\n",
       "      <td>2019-03-01 08:01:55.975</td>\n",
       "      <td>21.0</td>\n",
       "      <td>Montgomery St BART Station (Market St at 2nd St)</td>\n",
       "      <td>13.0</td>\n",
       "      <td>Commercial St at Montgomery St</td>\n",
       "      <td>4902</td>\n",
       "      <td>Customer</td>\n",
       "      <td>1984.0</td>\n",
       "      <td>Male</td>\n",
       "      <td>No</td>\n",
       "      <td>869.750000</td>\n",
       "      <td>17</td>\n",
       "      <td>Thursday</td>\n",
       "    </tr>\n",
       "    <tr>\n",
       "      <th>1</th>\n",
       "      <td>42521</td>\n",
       "      <td>2019-02-28 18:53:21.789</td>\n",
       "      <td>2019-03-01 06:42:03.056</td>\n",
       "      <td>23.0</td>\n",
       "      <td>The Embarcadero at Steuart St</td>\n",
       "      <td>81.0</td>\n",
       "      <td>Berry St at 4th St</td>\n",
       "      <td>2535</td>\n",
       "      <td>Customer</td>\n",
       "      <td>NaN</td>\n",
       "      <td>NaN</td>\n",
       "      <td>No</td>\n",
       "      <td>708.683333</td>\n",
       "      <td>18</td>\n",
       "      <td>Thursday</td>\n",
       "    </tr>\n",
       "    <tr>\n",
       "      <th>2</th>\n",
       "      <td>61854</td>\n",
       "      <td>2019-02-28 12:13:13.218</td>\n",
       "      <td>2019-03-01 05:24:08.146</td>\n",
       "      <td>86.0</td>\n",
       "      <td>Market St at Dolores St</td>\n",
       "      <td>3.0</td>\n",
       "      <td>Powell St BART Station (Market St at 4th St)</td>\n",
       "      <td>5905</td>\n",
       "      <td>Customer</td>\n",
       "      <td>1972.0</td>\n",
       "      <td>Male</td>\n",
       "      <td>No</td>\n",
       "      <td>1030.900000</td>\n",
       "      <td>12</td>\n",
       "      <td>Thursday</td>\n",
       "    </tr>\n",
       "    <tr>\n",
       "      <th>3</th>\n",
       "      <td>36490</td>\n",
       "      <td>2019-02-28 17:54:26.010</td>\n",
       "      <td>2019-03-01 04:02:36.842</td>\n",
       "      <td>375.0</td>\n",
       "      <td>Grove St at Masonic Ave</td>\n",
       "      <td>70.0</td>\n",
       "      <td>Central Ave at Fell St</td>\n",
       "      <td>6638</td>\n",
       "      <td>Subscriber</td>\n",
       "      <td>1989.0</td>\n",
       "      <td>Other</td>\n",
       "      <td>No</td>\n",
       "      <td>608.166667</td>\n",
       "      <td>17</td>\n",
       "      <td>Thursday</td>\n",
       "    </tr>\n",
       "    <tr>\n",
       "      <th>4</th>\n",
       "      <td>1585</td>\n",
       "      <td>2019-02-28 23:54:18.549</td>\n",
       "      <td>2019-03-01 00:20:44.074</td>\n",
       "      <td>7.0</td>\n",
       "      <td>Frank H Ogawa Plaza</td>\n",
       "      <td>222.0</td>\n",
       "      <td>10th Ave at E 15th St</td>\n",
       "      <td>4898</td>\n",
       "      <td>Subscriber</td>\n",
       "      <td>1974.0</td>\n",
       "      <td>Male</td>\n",
       "      <td>Yes</td>\n",
       "      <td>26.416667</td>\n",
       "      <td>23</td>\n",
       "      <td>Thursday</td>\n",
       "    </tr>\n",
       "  </tbody>\n",
       "</table>\n",
       "</div>"
      ],
      "text/plain": [
       "   duration_sec              start_time                end_time  \\\n",
       "0         52185 2019-02-28 17:32:10.145 2019-03-01 08:01:55.975   \n",
       "1         42521 2019-02-28 18:53:21.789 2019-03-01 06:42:03.056   \n",
       "2         61854 2019-02-28 12:13:13.218 2019-03-01 05:24:08.146   \n",
       "3         36490 2019-02-28 17:54:26.010 2019-03-01 04:02:36.842   \n",
       "4          1585 2019-02-28 23:54:18.549 2019-03-01 00:20:44.074   \n",
       "\n",
       "  start_station_id                                start_station_name  \\\n",
       "0             21.0  Montgomery St BART Station (Market St at 2nd St)   \n",
       "1             23.0                     The Embarcadero at Steuart St   \n",
       "2             86.0                           Market St at Dolores St   \n",
       "3            375.0                           Grove St at Masonic Ave   \n",
       "4              7.0                               Frank H Ogawa Plaza   \n",
       "\n",
       "  end_station_id                              end_station_name bike_id  \\\n",
       "0           13.0                Commercial St at Montgomery St    4902   \n",
       "1           81.0                            Berry St at 4th St    2535   \n",
       "2            3.0  Powell St BART Station (Market St at 4th St)    5905   \n",
       "3           70.0                        Central Ave at Fell St    6638   \n",
       "4          222.0                         10th Ave at E 15th St    4898   \n",
       "\n",
       "    user_type  member_birth_year member_gender bike_share_for_all_trip  \\\n",
       "0    Customer             1984.0          Male                      No   \n",
       "1    Customer                NaN           NaN                      No   \n",
       "2    Customer             1972.0          Male                      No   \n",
       "3  Subscriber             1989.0         Other                      No   \n",
       "4  Subscriber             1974.0          Male                     Yes   \n",
       "\n",
       "   duration_minutes start_hour day_of_week  \n",
       "0        869.750000         17    Thursday  \n",
       "1        708.683333         18    Thursday  \n",
       "2       1030.900000         12    Thursday  \n",
       "3        608.166667         17    Thursday  \n",
       "4         26.416667         23    Thursday  "
      ]
     },
     "execution_count": 278,
     "metadata": {},
     "output_type": "execute_result"
    }
   ],
   "source": [
    "bike_sharing_copy.head(5)"
   ]
  },
  {
   "cell_type": "code",
   "execution_count": 279,
   "metadata": {
    "slideshow": {
     "slide_type": "subslide"
    }
   },
   "outputs": [],
   "source": [
    "#dropping the duration by seconds column\n",
    "bike_sharing_copy.drop(['duration_sec'], axis=1, inplace=True)"
   ]
  },
  {
   "cell_type": "code",
   "execution_count": 280,
   "metadata": {
    "slideshow": {
     "slide_type": "subslide"
    }
   },
   "outputs": [
    {
     "data": {
      "text/plain": [
       "Index(['start_time', 'end_time', 'start_station_id', 'start_station_name',\n",
       "       'end_station_id', 'end_station_name', 'bike_id', 'user_type',\n",
       "       'member_birth_year', 'member_gender', 'bike_share_for_all_trip',\n",
       "       'duration_minutes', 'start_hour', 'day_of_week'],\n",
       "      dtype='object')"
      ]
     },
     "execution_count": 280,
     "metadata": {},
     "output_type": "execute_result"
    }
   ],
   "source": [
    "#checking duration_sec drop\n",
    "bike_sharing_copy.columns"
   ]
  },
  {
   "cell_type": "code",
   "execution_count": 281,
   "metadata": {
    "slideshow": {
     "slide_type": "subslide"
    }
   },
   "outputs": [],
   "source": [
    "#calculating age of each user\n",
    "bike_sharing_copy['user_age'] = 2019 - bike_sharing_copy['member_birth_year']"
   ]
  },
  {
   "cell_type": "code",
   "execution_count": 282,
   "metadata": {
    "slideshow": {
     "slide_type": "subslide"
    }
   },
   "outputs": [
    {
     "data": {
      "text/plain": [
       "0         35.0\n",
       "1          NaN\n",
       "2         47.0\n",
       "3         30.0\n",
       "4         45.0\n",
       "          ... \n",
       "183407    23.0\n",
       "183408    35.0\n",
       "183409    29.0\n",
       "183410    31.0\n",
       "183411    30.0\n",
       "Name: user_age, Length: 183412, dtype: float64"
      ]
     },
     "execution_count": 282,
     "metadata": {},
     "output_type": "execute_result"
    }
   ],
   "source": [
    "bike_sharing_copy['user_age']"
   ]
  },
  {
   "cell_type": "code",
   "execution_count": 283,
   "metadata": {
    "slideshow": {
     "slide_type": "subslide"
    }
   },
   "outputs": [
    {
     "data": {
      "text/html": [
       "<div>\n",
       "<style scoped>\n",
       "    .dataframe tbody tr th:only-of-type {\n",
       "        vertical-align: middle;\n",
       "    }\n",
       "\n",
       "    .dataframe tbody tr th {\n",
       "        vertical-align: top;\n",
       "    }\n",
       "\n",
       "    .dataframe thead th {\n",
       "        text-align: right;\n",
       "    }\n",
       "</style>\n",
       "<table border=\"1\" class=\"dataframe\">\n",
       "  <thead>\n",
       "    <tr style=\"text-align: right;\">\n",
       "      <th></th>\n",
       "      <th>start_time</th>\n",
       "      <th>end_time</th>\n",
       "      <th>start_station_id</th>\n",
       "      <th>start_station_name</th>\n",
       "      <th>end_station_id</th>\n",
       "      <th>end_station_name</th>\n",
       "      <th>bike_id</th>\n",
       "      <th>user_type</th>\n",
       "      <th>member_birth_year</th>\n",
       "      <th>member_gender</th>\n",
       "      <th>bike_share_for_all_trip</th>\n",
       "      <th>duration_minutes</th>\n",
       "      <th>start_hour</th>\n",
       "      <th>day_of_week</th>\n",
       "      <th>user_age</th>\n",
       "    </tr>\n",
       "  </thead>\n",
       "  <tbody>\n",
       "    <tr>\n",
       "      <th>0</th>\n",
       "      <td>2019-02-28 17:32:10.145</td>\n",
       "      <td>2019-03-01 08:01:55.975</td>\n",
       "      <td>21.0</td>\n",
       "      <td>Montgomery St BART Station (Market St at 2nd St)</td>\n",
       "      <td>13.0</td>\n",
       "      <td>Commercial St at Montgomery St</td>\n",
       "      <td>4902</td>\n",
       "      <td>Customer</td>\n",
       "      <td>1984.0</td>\n",
       "      <td>Male</td>\n",
       "      <td>No</td>\n",
       "      <td>869.750000</td>\n",
       "      <td>17</td>\n",
       "      <td>Thursday</td>\n",
       "      <td>35.0</td>\n",
       "    </tr>\n",
       "    <tr>\n",
       "      <th>1</th>\n",
       "      <td>2019-02-28 12:13:13.218</td>\n",
       "      <td>2019-03-01 05:24:08.146</td>\n",
       "      <td>86.0</td>\n",
       "      <td>Market St at Dolores St</td>\n",
       "      <td>3.0</td>\n",
       "      <td>Powell St BART Station (Market St at 4th St)</td>\n",
       "      <td>5905</td>\n",
       "      <td>Customer</td>\n",
       "      <td>1972.0</td>\n",
       "      <td>Male</td>\n",
       "      <td>No</td>\n",
       "      <td>1030.900000</td>\n",
       "      <td>12</td>\n",
       "      <td>Thursday</td>\n",
       "      <td>47.0</td>\n",
       "    </tr>\n",
       "    <tr>\n",
       "      <th>2</th>\n",
       "      <td>2019-02-28 17:54:26.010</td>\n",
       "      <td>2019-03-01 04:02:36.842</td>\n",
       "      <td>375.0</td>\n",
       "      <td>Grove St at Masonic Ave</td>\n",
       "      <td>70.0</td>\n",
       "      <td>Central Ave at Fell St</td>\n",
       "      <td>6638</td>\n",
       "      <td>Subscriber</td>\n",
       "      <td>1989.0</td>\n",
       "      <td>Other</td>\n",
       "      <td>No</td>\n",
       "      <td>608.166667</td>\n",
       "      <td>17</td>\n",
       "      <td>Thursday</td>\n",
       "      <td>30.0</td>\n",
       "    </tr>\n",
       "    <tr>\n",
       "      <th>3</th>\n",
       "      <td>2019-02-28 23:54:18.549</td>\n",
       "      <td>2019-03-01 00:20:44.074</td>\n",
       "      <td>7.0</td>\n",
       "      <td>Frank H Ogawa Plaza</td>\n",
       "      <td>222.0</td>\n",
       "      <td>10th Ave at E 15th St</td>\n",
       "      <td>4898</td>\n",
       "      <td>Subscriber</td>\n",
       "      <td>1974.0</td>\n",
       "      <td>Male</td>\n",
       "      <td>Yes</td>\n",
       "      <td>26.416667</td>\n",
       "      <td>23</td>\n",
       "      <td>Thursday</td>\n",
       "      <td>45.0</td>\n",
       "    </tr>\n",
       "    <tr>\n",
       "      <th>4</th>\n",
       "      <td>2019-02-28 23:49:58.632</td>\n",
       "      <td>2019-03-01 00:19:51.760</td>\n",
       "      <td>93.0</td>\n",
       "      <td>4th St at Mission Bay Blvd S</td>\n",
       "      <td>323.0</td>\n",
       "      <td>Broadway at Kearny</td>\n",
       "      <td>5200</td>\n",
       "      <td>Subscriber</td>\n",
       "      <td>1959.0</td>\n",
       "      <td>Male</td>\n",
       "      <td>No</td>\n",
       "      <td>29.883333</td>\n",
       "      <td>23</td>\n",
       "      <td>Thursday</td>\n",
       "      <td>60.0</td>\n",
       "    </tr>\n",
       "    <tr>\n",
       "      <th>...</th>\n",
       "      <td>...</td>\n",
       "      <td>...</td>\n",
       "      <td>...</td>\n",
       "      <td>...</td>\n",
       "      <td>...</td>\n",
       "      <td>...</td>\n",
       "      <td>...</td>\n",
       "      <td>...</td>\n",
       "      <td>...</td>\n",
       "      <td>...</td>\n",
       "      <td>...</td>\n",
       "      <td>...</td>\n",
       "      <td>...</td>\n",
       "      <td>...</td>\n",
       "      <td>...</td>\n",
       "    </tr>\n",
       "    <tr>\n",
       "      <th>174947</th>\n",
       "      <td>2019-02-01 00:04:49.724</td>\n",
       "      <td>2019-02-01 00:12:50.034</td>\n",
       "      <td>27.0</td>\n",
       "      <td>Beale St at Harrison St</td>\n",
       "      <td>324.0</td>\n",
       "      <td>Union Square (Powell St at Post St)</td>\n",
       "      <td>4832</td>\n",
       "      <td>Subscriber</td>\n",
       "      <td>1996.0</td>\n",
       "      <td>Male</td>\n",
       "      <td>No</td>\n",
       "      <td>8.000000</td>\n",
       "      <td>00</td>\n",
       "      <td>Friday</td>\n",
       "      <td>23.0</td>\n",
       "    </tr>\n",
       "    <tr>\n",
       "      <th>174948</th>\n",
       "      <td>2019-02-01 00:05:34.744</td>\n",
       "      <td>2019-02-01 00:10:48.502</td>\n",
       "      <td>21.0</td>\n",
       "      <td>Montgomery St BART Station (Market St at 2nd St)</td>\n",
       "      <td>66.0</td>\n",
       "      <td>3rd St at Townsend St</td>\n",
       "      <td>4960</td>\n",
       "      <td>Subscriber</td>\n",
       "      <td>1984.0</td>\n",
       "      <td>Male</td>\n",
       "      <td>No</td>\n",
       "      <td>5.216667</td>\n",
       "      <td>00</td>\n",
       "      <td>Friday</td>\n",
       "      <td>35.0</td>\n",
       "    </tr>\n",
       "    <tr>\n",
       "      <th>174949</th>\n",
       "      <td>2019-02-01 00:06:05.549</td>\n",
       "      <td>2019-02-01 00:08:27.220</td>\n",
       "      <td>278.0</td>\n",
       "      <td>The Alameda at Bush St</td>\n",
       "      <td>277.0</td>\n",
       "      <td>Morrison Ave at Julian St</td>\n",
       "      <td>3824</td>\n",
       "      <td>Subscriber</td>\n",
       "      <td>1990.0</td>\n",
       "      <td>Male</td>\n",
       "      <td>Yes</td>\n",
       "      <td>2.350000</td>\n",
       "      <td>00</td>\n",
       "      <td>Friday</td>\n",
       "      <td>29.0</td>\n",
       "    </tr>\n",
       "    <tr>\n",
       "      <th>174950</th>\n",
       "      <td>2019-02-01 00:05:34.360</td>\n",
       "      <td>2019-02-01 00:07:54.287</td>\n",
       "      <td>220.0</td>\n",
       "      <td>San Pablo Ave at MLK Jr Way</td>\n",
       "      <td>216.0</td>\n",
       "      <td>San Pablo Ave at 27th St</td>\n",
       "      <td>5095</td>\n",
       "      <td>Subscriber</td>\n",
       "      <td>1988.0</td>\n",
       "      <td>Male</td>\n",
       "      <td>No</td>\n",
       "      <td>2.316667</td>\n",
       "      <td>00</td>\n",
       "      <td>Friday</td>\n",
       "      <td>31.0</td>\n",
       "    </tr>\n",
       "    <tr>\n",
       "      <th>174951</th>\n",
       "      <td>2019-02-01 00:00:20.636</td>\n",
       "      <td>2019-02-01 00:04:52.058</td>\n",
       "      <td>24.0</td>\n",
       "      <td>Spear St at Folsom St</td>\n",
       "      <td>37.0</td>\n",
       "      <td>2nd St at Folsom St</td>\n",
       "      <td>1057</td>\n",
       "      <td>Subscriber</td>\n",
       "      <td>1989.0</td>\n",
       "      <td>Male</td>\n",
       "      <td>No</td>\n",
       "      <td>4.516667</td>\n",
       "      <td>00</td>\n",
       "      <td>Friday</td>\n",
       "      <td>30.0</td>\n",
       "    </tr>\n",
       "  </tbody>\n",
       "</table>\n",
       "<p>174952 rows × 15 columns</p>\n",
       "</div>"
      ],
      "text/plain": [
       "                    start_time                end_time start_station_id  \\\n",
       "0      2019-02-28 17:32:10.145 2019-03-01 08:01:55.975             21.0   \n",
       "1      2019-02-28 12:13:13.218 2019-03-01 05:24:08.146             86.0   \n",
       "2      2019-02-28 17:54:26.010 2019-03-01 04:02:36.842            375.0   \n",
       "3      2019-02-28 23:54:18.549 2019-03-01 00:20:44.074              7.0   \n",
       "4      2019-02-28 23:49:58.632 2019-03-01 00:19:51.760             93.0   \n",
       "...                        ...                     ...              ...   \n",
       "174947 2019-02-01 00:04:49.724 2019-02-01 00:12:50.034             27.0   \n",
       "174948 2019-02-01 00:05:34.744 2019-02-01 00:10:48.502             21.0   \n",
       "174949 2019-02-01 00:06:05.549 2019-02-01 00:08:27.220            278.0   \n",
       "174950 2019-02-01 00:05:34.360 2019-02-01 00:07:54.287            220.0   \n",
       "174951 2019-02-01 00:00:20.636 2019-02-01 00:04:52.058             24.0   \n",
       "\n",
       "                                      start_station_name end_station_id  \\\n",
       "0       Montgomery St BART Station (Market St at 2nd St)           13.0   \n",
       "1                                Market St at Dolores St            3.0   \n",
       "2                                Grove St at Masonic Ave           70.0   \n",
       "3                                    Frank H Ogawa Plaza          222.0   \n",
       "4                           4th St at Mission Bay Blvd S          323.0   \n",
       "...                                                  ...            ...   \n",
       "174947                           Beale St at Harrison St          324.0   \n",
       "174948  Montgomery St BART Station (Market St at 2nd St)           66.0   \n",
       "174949                            The Alameda at Bush St          277.0   \n",
       "174950                       San Pablo Ave at MLK Jr Way          216.0   \n",
       "174951                             Spear St at Folsom St           37.0   \n",
       "\n",
       "                                    end_station_name bike_id   user_type  \\\n",
       "0                     Commercial St at Montgomery St    4902    Customer   \n",
       "1       Powell St BART Station (Market St at 4th St)    5905    Customer   \n",
       "2                             Central Ave at Fell St    6638  Subscriber   \n",
       "3                              10th Ave at E 15th St    4898  Subscriber   \n",
       "4                                 Broadway at Kearny    5200  Subscriber   \n",
       "...                                              ...     ...         ...   \n",
       "174947           Union Square (Powell St at Post St)    4832  Subscriber   \n",
       "174948                         3rd St at Townsend St    4960  Subscriber   \n",
       "174949                     Morrison Ave at Julian St    3824  Subscriber   \n",
       "174950                      San Pablo Ave at 27th St    5095  Subscriber   \n",
       "174951                           2nd St at Folsom St    1057  Subscriber   \n",
       "\n",
       "        member_birth_year member_gender bike_share_for_all_trip  \\\n",
       "0                  1984.0          Male                      No   \n",
       "1                  1972.0          Male                      No   \n",
       "2                  1989.0         Other                      No   \n",
       "3                  1974.0          Male                     Yes   \n",
       "4                  1959.0          Male                      No   \n",
       "...                   ...           ...                     ...   \n",
       "174947             1996.0          Male                      No   \n",
       "174948             1984.0          Male                      No   \n",
       "174949             1990.0          Male                     Yes   \n",
       "174950             1988.0          Male                      No   \n",
       "174951             1989.0          Male                      No   \n",
       "\n",
       "        duration_minutes start_hour day_of_week  user_age  \n",
       "0             869.750000         17    Thursday      35.0  \n",
       "1            1030.900000         12    Thursday      47.0  \n",
       "2             608.166667         17    Thursday      30.0  \n",
       "3              26.416667         23    Thursday      45.0  \n",
       "4              29.883333         23    Thursday      60.0  \n",
       "...                  ...        ...         ...       ...  \n",
       "174947          8.000000         00      Friday      23.0  \n",
       "174948          5.216667         00      Friday      35.0  \n",
       "174949          2.350000         00      Friday      29.0  \n",
       "174950          2.316667         00      Friday      31.0  \n",
       "174951          4.516667         00      Friday      30.0  \n",
       "\n",
       "[174952 rows x 15 columns]"
      ]
     },
     "execution_count": 283,
     "metadata": {},
     "output_type": "execute_result"
    }
   ],
   "source": [
    "#drop NaN rows in dataframe and reset index\n",
    "bike_sharing_copy = bike_sharing_copy.dropna()\n",
    "bike_sharing_copy = bike_sharing_copy.reset_index(drop=True)\n",
    "bike_sharing_copy"
   ]
  },
  {
   "cell_type": "code",
   "execution_count": 284,
   "metadata": {
    "slideshow": {
     "slide_type": "subslide"
    }
   },
   "outputs": [
    {
     "data": {
      "text/plain": [
       "start_time                 0\n",
       "end_time                   0\n",
       "start_station_id           0\n",
       "start_station_name         0\n",
       "end_station_id             0\n",
       "end_station_name           0\n",
       "bike_id                    0\n",
       "user_type                  0\n",
       "member_birth_year          0\n",
       "member_gender              0\n",
       "bike_share_for_all_trip    0\n",
       "duration_minutes           0\n",
       "start_hour                 0\n",
       "day_of_week                0\n",
       "user_age                   0\n",
       "dtype: int64"
      ]
     },
     "execution_count": 284,
     "metadata": {},
     "output_type": "execute_result"
    }
   ],
   "source": [
    "#confirming deletion of null values\n",
    "bike_sharing_copy.isna().sum()"
   ]
  },
  {
   "cell_type": "code",
   "execution_count": 285,
   "metadata": {
    "slideshow": {
     "slide_type": "subslide"
    }
   },
   "outputs": [
    {
     "data": {
      "text/plain": [
       "start_time                 datetime64[ns]\n",
       "end_time                   datetime64[ns]\n",
       "start_station_id                   object\n",
       "start_station_name                 object\n",
       "end_station_id                     object\n",
       "end_station_name                   object\n",
       "bike_id                            object\n",
       "user_type                        category\n",
       "member_birth_year                 float64\n",
       "member_gender                    category\n",
       "bike_share_for_all_trip            object\n",
       "duration_minutes                  float64\n",
       "start_hour                         object\n",
       "day_of_week                        object\n",
       "user_age                          float64\n",
       "dtype: object"
      ]
     },
     "execution_count": 285,
     "metadata": {},
     "output_type": "execute_result"
    }
   ],
   "source": [
    "#checking dtypes\n",
    "bike_sharing_copy.dtypes"
   ]
  },
  {
   "cell_type": "code",
   "execution_count": 286,
   "metadata": {},
   "outputs": [],
   "source": [
    "# convert start_hour, day_of_week into ordered categorical types\n",
    "bike_start_hour = {'start_hour': ['00','01','02','03','04','05', '06', '07', '08', '09', '10', '11', '12', '13', '14', '15', '16', '17', '18', '19', '20', '21', '22', '23']}\n",
    "bike_week_day = {'day_of_week': ['Monday', 'Tuesday', 'Wednesday', 'Thursday', 'Friday', 'Saturday', 'Sunday',]}\n",
    "\n",
    "# function for ordered categories\n",
    "def convert_to_cat(cat_):\n",
    "    for var in cat_:\n",
    "        ordered_cat = pd.api.types.CategoricalDtype(ordered = True, categories = cat_[var])\n",
    "        bike_sharing_copy[var] = bike_sharing_copy[var].astype(ordered_cat)\n",
    "        \n",
    "convert_to_cat(bike_start_hour)\n",
    "convert_to_cat(bike_week_day)"
   ]
  },
  {
   "cell_type": "code",
   "execution_count": 287,
   "metadata": {},
   "outputs": [
    {
     "name": "stdout",
     "output_type": "stream",
     "text": [
      "{'day_of_week': ['Monday', 'Tuesday', 'Wednesday', 'Thursday', 'Friday', 'Saturday', 'Sunday']}\n"
     ]
    }
   ],
   "source": [
    "print(bike_week_day)"
   ]
  },
  {
   "cell_type": "code",
   "execution_count": 288,
   "metadata": {
    "slideshow": {
     "slide_type": "subslide"
    }
   },
   "outputs": [
    {
     "name": "stdout",
     "output_type": "stream",
     "text": [
      "int32\n"
     ]
    }
   ],
   "source": [
    "#change dtype for ages from float to int\n",
    "bike_sharing_copy['user_age'] = bike_sharing_copy['user_age'].astype('int') #change dtype for user_age\n",
    "print(bike_sharing_copy['user_age'].dtype) #confirm change of dtype"
   ]
  },
  {
   "cell_type": "code",
   "execution_count": 289,
   "metadata": {
    "slideshow": {
     "slide_type": "subslide"
    }
   },
   "outputs": [
    {
     "data": {
      "text/plain": [
       "dtype('int32')"
      ]
     },
     "execution_count": 289,
     "metadata": {},
     "output_type": "execute_result"
    }
   ],
   "source": [
    "bike_sharing_copy['member_birth_year'] = bike_sharing_copy['member_birth_year'].astype('int')\n",
    "bike_sharing_copy['member_birth_year'].dtype"
   ]
  },
  {
   "cell_type": "code",
   "execution_count": 290,
   "metadata": {
    "slideshow": {
     "slide_type": "subslide"
    }
   },
   "outputs": [
    {
     "data": {
      "text/html": [
       "<div>\n",
       "<style scoped>\n",
       "    .dataframe tbody tr th:only-of-type {\n",
       "        vertical-align: middle;\n",
       "    }\n",
       "\n",
       "    .dataframe tbody tr th {\n",
       "        vertical-align: top;\n",
       "    }\n",
       "\n",
       "    .dataframe thead th {\n",
       "        text-align: right;\n",
       "    }\n",
       "</style>\n",
       "<table border=\"1\" class=\"dataframe\">\n",
       "  <thead>\n",
       "    <tr style=\"text-align: right;\">\n",
       "      <th></th>\n",
       "      <th>start_time</th>\n",
       "      <th>end_time</th>\n",
       "      <th>start_station_id</th>\n",
       "      <th>start_station_name</th>\n",
       "      <th>end_station_id</th>\n",
       "      <th>end_station_name</th>\n",
       "      <th>bike_id</th>\n",
       "      <th>user_type</th>\n",
       "      <th>member_birth_year</th>\n",
       "      <th>member_gender</th>\n",
       "      <th>bike_share_for_all_trip</th>\n",
       "      <th>duration_minutes</th>\n",
       "      <th>start_hour</th>\n",
       "      <th>day_of_week</th>\n",
       "      <th>user_age</th>\n",
       "    </tr>\n",
       "  </thead>\n",
       "  <tbody>\n",
       "    <tr>\n",
       "      <th>0</th>\n",
       "      <td>2019-02-28 17:32:10.145</td>\n",
       "      <td>2019-03-01 08:01:55.975</td>\n",
       "      <td>21.0</td>\n",
       "      <td>Montgomery St BART Station (Market St at 2nd St)</td>\n",
       "      <td>13.0</td>\n",
       "      <td>Commercial St at Montgomery St</td>\n",
       "      <td>4902</td>\n",
       "      <td>Customer</td>\n",
       "      <td>1984</td>\n",
       "      <td>Male</td>\n",
       "      <td>No</td>\n",
       "      <td>869.750000</td>\n",
       "      <td>17</td>\n",
       "      <td>Thursday</td>\n",
       "      <td>35</td>\n",
       "    </tr>\n",
       "    <tr>\n",
       "      <th>1</th>\n",
       "      <td>2019-02-28 12:13:13.218</td>\n",
       "      <td>2019-03-01 05:24:08.146</td>\n",
       "      <td>86.0</td>\n",
       "      <td>Market St at Dolores St</td>\n",
       "      <td>3.0</td>\n",
       "      <td>Powell St BART Station (Market St at 4th St)</td>\n",
       "      <td>5905</td>\n",
       "      <td>Customer</td>\n",
       "      <td>1972</td>\n",
       "      <td>Male</td>\n",
       "      <td>No</td>\n",
       "      <td>1030.900000</td>\n",
       "      <td>12</td>\n",
       "      <td>Thursday</td>\n",
       "      <td>47</td>\n",
       "    </tr>\n",
       "    <tr>\n",
       "      <th>2</th>\n",
       "      <td>2019-02-28 17:54:26.010</td>\n",
       "      <td>2019-03-01 04:02:36.842</td>\n",
       "      <td>375.0</td>\n",
       "      <td>Grove St at Masonic Ave</td>\n",
       "      <td>70.0</td>\n",
       "      <td>Central Ave at Fell St</td>\n",
       "      <td>6638</td>\n",
       "      <td>Subscriber</td>\n",
       "      <td>1989</td>\n",
       "      <td>Other</td>\n",
       "      <td>No</td>\n",
       "      <td>608.166667</td>\n",
       "      <td>17</td>\n",
       "      <td>Thursday</td>\n",
       "      <td>30</td>\n",
       "    </tr>\n",
       "    <tr>\n",
       "      <th>3</th>\n",
       "      <td>2019-02-28 23:54:18.549</td>\n",
       "      <td>2019-03-01 00:20:44.074</td>\n",
       "      <td>7.0</td>\n",
       "      <td>Frank H Ogawa Plaza</td>\n",
       "      <td>222.0</td>\n",
       "      <td>10th Ave at E 15th St</td>\n",
       "      <td>4898</td>\n",
       "      <td>Subscriber</td>\n",
       "      <td>1974</td>\n",
       "      <td>Male</td>\n",
       "      <td>Yes</td>\n",
       "      <td>26.416667</td>\n",
       "      <td>23</td>\n",
       "      <td>Thursday</td>\n",
       "      <td>45</td>\n",
       "    </tr>\n",
       "    <tr>\n",
       "      <th>4</th>\n",
       "      <td>2019-02-28 23:49:58.632</td>\n",
       "      <td>2019-03-01 00:19:51.760</td>\n",
       "      <td>93.0</td>\n",
       "      <td>4th St at Mission Bay Blvd S</td>\n",
       "      <td>323.0</td>\n",
       "      <td>Broadway at Kearny</td>\n",
       "      <td>5200</td>\n",
       "      <td>Subscriber</td>\n",
       "      <td>1959</td>\n",
       "      <td>Male</td>\n",
       "      <td>No</td>\n",
       "      <td>29.883333</td>\n",
       "      <td>23</td>\n",
       "      <td>Thursday</td>\n",
       "      <td>60</td>\n",
       "    </tr>\n",
       "  </tbody>\n",
       "</table>\n",
       "</div>"
      ],
      "text/plain": [
       "               start_time                end_time start_station_id  \\\n",
       "0 2019-02-28 17:32:10.145 2019-03-01 08:01:55.975             21.0   \n",
       "1 2019-02-28 12:13:13.218 2019-03-01 05:24:08.146             86.0   \n",
       "2 2019-02-28 17:54:26.010 2019-03-01 04:02:36.842            375.0   \n",
       "3 2019-02-28 23:54:18.549 2019-03-01 00:20:44.074              7.0   \n",
       "4 2019-02-28 23:49:58.632 2019-03-01 00:19:51.760             93.0   \n",
       "\n",
       "                                 start_station_name end_station_id  \\\n",
       "0  Montgomery St BART Station (Market St at 2nd St)           13.0   \n",
       "1                           Market St at Dolores St            3.0   \n",
       "2                           Grove St at Masonic Ave           70.0   \n",
       "3                               Frank H Ogawa Plaza          222.0   \n",
       "4                      4th St at Mission Bay Blvd S          323.0   \n",
       "\n",
       "                               end_station_name bike_id   user_type  \\\n",
       "0                Commercial St at Montgomery St    4902    Customer   \n",
       "1  Powell St BART Station (Market St at 4th St)    5905    Customer   \n",
       "2                        Central Ave at Fell St    6638  Subscriber   \n",
       "3                         10th Ave at E 15th St    4898  Subscriber   \n",
       "4                            Broadway at Kearny    5200  Subscriber   \n",
       "\n",
       "   member_birth_year member_gender bike_share_for_all_trip  duration_minutes  \\\n",
       "0               1984          Male                      No        869.750000   \n",
       "1               1972          Male                      No       1030.900000   \n",
       "2               1989         Other                      No        608.166667   \n",
       "3               1974          Male                     Yes         26.416667   \n",
       "4               1959          Male                      No         29.883333   \n",
       "\n",
       "  start_hour day_of_week  user_age  \n",
       "0         17    Thursday        35  \n",
       "1         12    Thursday        47  \n",
       "2         17    Thursday        30  \n",
       "3         23    Thursday        45  \n",
       "4         23    Thursday        60  "
      ]
     },
     "execution_count": 290,
     "metadata": {},
     "output_type": "execute_result"
    }
   ],
   "source": [
    "#clean copy\n",
    "bike_sharing_clean = bike_sharing_copy.copy()\n",
    "bike_sharing_clean.head()"
   ]
  },
  {
   "cell_type": "code",
   "execution_count": 291,
   "metadata": {
    "slideshow": {
     "slide_type": "subslide"
    }
   },
   "outputs": [
    {
     "data": {
      "text/html": [
       "<div>\n",
       "<style scoped>\n",
       "    .dataframe tbody tr th:only-of-type {\n",
       "        vertical-align: middle;\n",
       "    }\n",
       "\n",
       "    .dataframe tbody tr th {\n",
       "        vertical-align: top;\n",
       "    }\n",
       "\n",
       "    .dataframe thead th {\n",
       "        text-align: right;\n",
       "    }\n",
       "</style>\n",
       "<table border=\"1\" class=\"dataframe\">\n",
       "  <thead>\n",
       "    <tr style=\"text-align: right;\">\n",
       "      <th></th>\n",
       "      <th>member_birth_year</th>\n",
       "      <th>duration_minutes</th>\n",
       "      <th>user_age</th>\n",
       "    </tr>\n",
       "  </thead>\n",
       "  <tbody>\n",
       "    <tr>\n",
       "      <th>count</th>\n",
       "      <td>174952.000000</td>\n",
       "      <td>174952.000000</td>\n",
       "      <td>174952.000000</td>\n",
       "    </tr>\n",
       "    <tr>\n",
       "      <th>mean</th>\n",
       "      <td>1984.803135</td>\n",
       "      <td>11.733379</td>\n",
       "      <td>34.196865</td>\n",
       "    </tr>\n",
       "    <tr>\n",
       "      <th>std</th>\n",
       "      <td>10.118731</td>\n",
       "      <td>27.370082</td>\n",
       "      <td>10.118731</td>\n",
       "    </tr>\n",
       "    <tr>\n",
       "      <th>min</th>\n",
       "      <td>1878.000000</td>\n",
       "      <td>1.016667</td>\n",
       "      <td>18.000000</td>\n",
       "    </tr>\n",
       "    <tr>\n",
       "      <th>25%</th>\n",
       "      <td>1980.000000</td>\n",
       "      <td>5.383333</td>\n",
       "      <td>27.000000</td>\n",
       "    </tr>\n",
       "    <tr>\n",
       "      <th>50%</th>\n",
       "      <td>1987.000000</td>\n",
       "      <td>8.500000</td>\n",
       "      <td>32.000000</td>\n",
       "    </tr>\n",
       "    <tr>\n",
       "      <th>75%</th>\n",
       "      <td>1992.000000</td>\n",
       "      <td>13.150000</td>\n",
       "      <td>39.000000</td>\n",
       "    </tr>\n",
       "    <tr>\n",
       "      <th>max</th>\n",
       "      <td>2001.000000</td>\n",
       "      <td>1409.133333</td>\n",
       "      <td>141.000000</td>\n",
       "    </tr>\n",
       "  </tbody>\n",
       "</table>\n",
       "</div>"
      ],
      "text/plain": [
       "       member_birth_year  duration_minutes       user_age\n",
       "count      174952.000000     174952.000000  174952.000000\n",
       "mean         1984.803135         11.733379      34.196865\n",
       "std            10.118731         27.370082      10.118731\n",
       "min          1878.000000          1.016667      18.000000\n",
       "25%          1980.000000          5.383333      27.000000\n",
       "50%          1987.000000          8.500000      32.000000\n",
       "75%          1992.000000         13.150000      39.000000\n",
       "max          2001.000000       1409.133333     141.000000"
      ]
     },
     "execution_count": 291,
     "metadata": {},
     "output_type": "execute_result"
    }
   ],
   "source": [
    "bike_sharing_clean.describe()"
   ]
  },
  {
   "cell_type": "markdown",
   "metadata": {
    "slideshow": {
     "slide_type": "slide"
    }
   },
   "source": [
    "<a id='explore'></a>\n",
    "## Exploratory Analysis\n",
    "\n",
    "### **Univariate Exploration**\n",
    "\n",
    "> This section is dedicated to investigating distributions of individual variables. \n",
    "\n",
    "### What day of the week did most rides occur?"
   ]
  },
  {
   "cell_type": "code",
   "execution_count": 292,
   "metadata": {
    "slideshow": {
     "slide_type": "subslide"
    }
   },
   "outputs": [
    {
     "data": {
      "text/plain": [
       "CategoricalIndex(['Thursday', 'Tuesday', 'Wednesday', 'Friday', 'Monday',\n",
       "                  'Sunday', 'Saturday'],\n",
       "                 categories=['Monday', 'Tuesday', 'Wednesday', 'Thursday', 'Friday', 'Saturday', 'Sunday'], ordered=True, dtype='category')"
      ]
     },
     "execution_count": 292,
     "metadata": {},
     "output_type": "execute_result"
    }
   ],
   "source": [
    "day_counts = bike_sharing_clean['day_of_week'].value_counts().index\n",
    "day_counts"
   ]
  },
  {
   "cell_type": "code",
   "execution_count": 293,
   "metadata": {
    "slideshow": {
     "slide_type": "subslide"
    }
   },
   "outputs": [
    {
     "data": {
      "image/png": "[encoded data removed]",
      "text/plain": [
       "<Figure size 576x432 with 1 Axes>"
      ]
     },
     "metadata": {
      "needs_background": "light"
     },
     "output_type": "display_data"
    }
   ],
   "source": [
    "# function to plot count\n",
    "def count_plot(dataFrame, xVariable, perc): #, yVariable, zVariable):\n",
    "    \n",
    "    #set plot dimensions\n",
    "    plt.figure(figsize=[8, 6])\n",
    "    \n",
    "    #set base colour\n",
    "    base_color = sb.color_palette()[0]\n",
    "    \n",
    "    # counting frequency per unique value in member gender \n",
    "    day_counts = bike_sharing_clean['day_of_week'].value_counts() #default count is in decreasing order\n",
    "    day_order = day_counts.index  #unique values of the member gender column \n",
    "    \n",
    "    #plot\n",
    "    ax = sb.countplot(data=dataFrame, x=xVariable, color=base_color) # order=bike_week_day) #check this\n",
    "    \n",
    "    # computing for and adding relative frequency text on bars\n",
    "    if perc=='yes':\n",
    "        for i in ax.patches:\n",
    "            percent_str = '{:.1f}%'.format(100 * i.get_height()/total)\n",
    "            x = i.get_x() + i.get_width()/2\n",
    "            y = i.get_height()+.05\n",
    "            ax.annotate(percent_str, (x, y),ha='center')\n",
    "    else:\n",
    "        pass\n",
    "    \n",
    "    #add title with formatting\n",
    "    plt.title(f'''Distribution of {xVariable}'''.title() , fontsize=14, weight='bold')\n",
    "\n",
    "    #add xlabel with formatting\n",
    "    plt.xlabel(xVariable.title(), fontsize=10, weight='bold')\n",
    "    \n",
    "    #add ylabel with formatting\n",
    "    plt.ylabel('Frequency'.title(), fontsize=10, weight='bold')\n",
    "    \n",
    "    \n",
    "\n",
    "    \n",
    "count_plot(bike_sharing_clean, 'day_of_week', perc='no')"
   ]
  },
  {
   "cell_type": "markdown",
   "metadata": {
    "slideshow": {
     "slide_type": "slide"
    }
   },
   "source": [
    "#### For the month of February, 2019, most rides appear to have occured within the week days, apparently due to working periods and then, peaking on Thursdays while weekends of Saturdays and Sundays witnessed lower rides indicating most people were probably off the road system or engaged in other activities not requiring movements. "
   ]
  },
  {
   "cell_type": "markdown",
   "metadata": {
    "slideshow": {
     "slide_type": "slide"
    }
   },
   "source": [
    "### Which user membership type used the system more?"
   ]
  },
  {
   "cell_type": "code",
   "execution_count": 294,
   "metadata": {
    "slideshow": {
     "slide_type": "subslide"
    }
   },
   "outputs": [
    {
     "data": {
      "image/png": "[encoded data removed]",
      "text/plain": [
       "<Figure size 576x432 with 1 Axes>"
      ]
     },
     "metadata": {
      "needs_background": "light"
     },
     "output_type": "display_data"
    }
   ],
   "source": [
    "#plot for user membership type\n",
    "count_plot(bike_sharing_clean, 'user_type', perc='yes')"
   ]
  },
  {
   "cell_type": "markdown",
   "metadata": {
    "slideshow": {
     "slide_type": "slide"
    }
   },
   "source": [
    "#### About 158,000 members (90%+) had full subcribers membership while customers were a little less than 20,000 which constituted 9.5% of the whole."
   ]
  },
  {
   "cell_type": "markdown",
   "metadata": {
    "slideshow": {
     "slide_type": "slide"
    }
   },
   "source": [
    "### What gender was patronizing the bike sharing system more frequently?"
   ]
  },
  {
   "cell_type": "code",
   "execution_count": 295,
   "metadata": {
    "slideshow": {
     "slide_type": "subslide"
    }
   },
   "outputs": [
    {
     "data": {
      "image/png": "[encoded data removed]",
      "text/plain": [
       "<Figure size 576x432 with 1 Axes>"
      ]
     },
     "metadata": {
      "needs_background": "light"
     },
     "output_type": "display_data"
    }
   ],
   "source": [
    "#plot for gender type\n",
    "count_plot(bike_sharing_clean, 'member_gender', perc='yes')"
   ]
  },
  {
   "cell_type": "markdown",
   "metadata": {
    "slideshow": {
     "slide_type": "slide"
    }
   },
   "source": [
    "#### The plot indicates that over 70% of the total rides in February, 2019 were done by Males, followed by females who had about 23% and those who didn't identify as either were less than 3% of the total."
   ]
  },
  {
   "cell_type": "markdown",
   "metadata": {
    "slideshow": {
     "slide_type": "slide"
    }
   },
   "source": [
    "### What hour of the day did most rides start?"
   ]
  },
  {
   "cell_type": "code",
   "execution_count": 296,
   "metadata": {
    "slideshow": {
     "slide_type": "subslide"
    }
   },
   "outputs": [
    {
     "data": {
      "image/png": "[encoded data removed]",
      "text/plain": [
       "<Figure size 576x432 with 1 Axes>"
      ]
     },
     "metadata": {
      "needs_background": "light"
     },
     "output_type": "display_data"
    }
   ],
   "source": [
    "#plot for user membership type\n",
    "count_plot(bike_sharing_clean, 'start_hour', perc='no')"
   ]
  },
  {
   "cell_type": "markdown",
   "metadata": {
    "slideshow": {
     "slide_type": "slide"
    }
   },
   "source": [
    "#### Visually, the plot sees 2 dinstinct peak hours of 8:00 hrs(am) and 17:00 hrs(pm) which can be traced to the rush hour time for work in the morning and closing period for most businesses respectively."
   ]
  },
  {
   "cell_type": "markdown",
   "metadata": {
    "slideshow": {
     "slide_type": "slide"
    }
   },
   "source": [
    "### What Age of Users were patronizing the system more?"
   ]
  },
  {
   "cell_type": "code",
   "execution_count": 297,
   "metadata": {},
   "outputs": [
    {
     "data": {
      "image/png": "[encoded data removed]",
      "text/plain": [
       "<Figure size 576x432 with 1 Axes>"
      ]
     },
     "metadata": {
      "needs_background": "light"
     },
     "output_type": "display_data"
    }
   ],
   "source": [
    "# function for histogram plot\n",
    "def hist_plot(dFrame, xVar, binsize):\n",
    "    \n",
    "    # increase plot area\n",
    "    fig, ax = plt.subplots(figsize=(8, 6))\n",
    "    \n",
    "    if binsize != None:\n",
    "        \n",
    "        #applying binsize using numpy's arange function\n",
    "        bins = np.arange(0, bike_sharing_clean['user_age'].max()+binsize, binsize)\n",
    "        plt.hist(data = bike_sharing_clean, x = 'user_age', bins = bins) \n",
    "    else:\n",
    "        #plot\n",
    "        plt.hist(data = bike_sharing_clean, x=xVar)\n",
    "    \n",
    "    #add title with formatting\n",
    "    plt.title(f'''Distribution of {xVar}'''.title() , fontsize=14, weight='bold')\n",
    "\n",
    "    #add xlabel with formatting\n",
    "    plt.xlabel(xVar.title(), fontsize=10, weight='bold')\n",
    "    \n",
    "    #add ylabel with formatting\n",
    "    plt.ylabel('Frequency'.title(), fontsize=10, weight='bold')\n",
    "\n",
    "hist_plot(bike_sharing_clean, xVar='user_age', binsize=None)"
   ]
  },
  {
   "cell_type": "markdown",
   "metadata": {},
   "source": [
    "##### The histogram appears not to be visually appealing and requires further investigation."
   ]
  },
  {
   "cell_type": "code",
   "execution_count": 298,
   "metadata": {},
   "outputs": [
    {
     "data": {
      "image/png": "[encoded data removed]",
      "text/plain": [
       "<Figure size 576x432 with 1 Axes>"
      ]
     },
     "metadata": {
      "needs_background": "light"
     },
     "output_type": "display_data"
    }
   ],
   "source": [
    "# adding binsize\n",
    "hist_plot(bike_sharing_clean, xVar='user_age', binsize=4)"
   ]
  },
  {
   "cell_type": "markdown",
   "metadata": {
    "slideshow": {
     "slide_type": "slide"
    }
   },
   "source": [
    "#### The right skewed histogram now sheds more light on an average of between 20 and 40 years as the age of most active users, even though the elderly are active withing the bike system. "
   ]
  },
  {
   "cell_type": "markdown",
   "metadata": {
    "slideshow": {
     "slide_type": "slide"
    }
   },
   "source": [
    "### What is the average duration of a bike trip?"
   ]
  },
  {
   "cell_type": "code",
   "execution_count": 299,
   "metadata": {
    "scrolled": true,
    "slideshow": {
     "slide_type": "subslide"
    }
   },
   "outputs": [
    {
     "data": {
      "image/png": "[encoded data removed]",
      "text/plain": [
       "<Figure size 576x360 with 1 Axes>"
      ]
     },
     "metadata": {
      "needs_background": "light"
     },
     "output_type": "display_data"
    }
   ],
   "source": [
    "# increasing plot size\n",
    "plt.figure(figsize=[8, 5])\n",
    "\n",
    "# plotting to a standard scale using log function with predefined xticks\n",
    "bins = 10 ** np.arange(0, np.log10(bike_sharing_clean['duration_minutes'].max())+1/10, 1/10)\n",
    "x_ticks =  [ 0.1 , 0.3 , 1 , 3, 10, 30, 100, 300]\n",
    "labels = ['{}'.format(v) for v in x_ticks]\n",
    "\n",
    "plt.hist(data = bike_sharing_clean, x = 'duration_minutes', bins = bins)\n",
    "plt.xscale('log')\n",
    "plt.xticks(x_ticks, labels)\n",
    "plt.xlabel('Trip Duration (min)')\n",
    "plt.title('Distribution of Trip Duration')\n",
    "plt.show();"
   ]
  },
  {
   "cell_type": "markdown",
   "metadata": {
    "slideshow": {
     "slide_type": "slide"
    }
   },
   "source": [
    "#### The histogram appears to be unimodal, pointing average trip duration of between 8 and 10 minutes."
   ]
  },
  {
   "cell_type": "markdown",
   "metadata": {
    "slideshow": {
     "slide_type": "slide"
    }
   },
   "source": [
    "### How many users used the bike_share_for_all_trip?"
   ]
  },
  {
   "cell_type": "code",
   "execution_count": 300,
   "metadata": {
    "slideshow": {
     "slide_type": "subslide"
    }
   },
   "outputs": [
    {
     "data": {
      "image/png": "[encoded data removed]",
      "text/plain": [
       "<Figure size 576x432 with 1 Axes>"
      ]
     },
     "metadata": {
      "needs_background": "light"
     },
     "output_type": "display_data"
    }
   ],
   "source": [
    "# plot for bike share\n",
    "count_plot(bike_sharing_clean, 'bike_share_for_all_trip', perc='yes')"
   ]
  },
  {
   "cell_type": "markdown",
   "metadata": {
    "slideshow": {
     "slide_type": "slide"
    }
   },
   "source": [
    "### Were there any unusual points? Did you need to perform any transformations?\n",
    "\n",
    "> The age histogram distribution was vague and bin sizes were increased for a better plot\n",
    "\n",
    "### Did you perform any operations on the data to tidy, adjust, or change the form of the data? If so, why did you do this?\n",
    "\n",
    "> A bit of feature engineering was employed to derive day of the week, the ages of users and the hour rides started. data types were changed and the longitude and latitude columns were dropped  after deemed unnecessary."
   ]
  },
  {
   "cell_type": "markdown",
   "metadata": {
    "slideshow": {
     "slide_type": "slide"
    }
   },
   "source": [
    "## Bivariate Exploration\n",
    "\n",
    "> This section investigates the relationships between pairs of variables as earlier presented. "
   ]
  },
  {
   "cell_type": "markdown",
   "metadata": {
    "slideshow": {
     "slide_type": "slide"
    }
   },
   "source": [
    "## What is the daily usage of the system between customers and subscribers?"
   ]
  },
  {
   "cell_type": "code",
   "execution_count": 301,
   "metadata": {
    "scrolled": true,
    "slideshow": {
     "slide_type": "subslide"
    }
   },
   "outputs": [
    {
     "data": {
      "image/png": "[encoded data removed]",
      "text/plain": [
       "<Figure size 576x360 with 1 Axes>"
      ]
     },
     "metadata": {
      "needs_background": "light"
     },
     "output_type": "display_data"
    }
   ],
   "source": [
    "#increase plot size\n",
    "plt.figure(figsize=[8, 5])\n",
    "sb.set_theme(style='darkgrid')\n",
    "\n",
    "# plot relationship between week usage of customers and subscribers\n",
    "sb.countplot(data=bike_sharing_clean, x='day_of_week', hue='user_type', palette = 'Set2');\n",
    "\n",
    "plt.title('Customers vs Subscribers', fontsize=14)\n",
    "plt.xlabel('Week Day');\n",
    "plt.ylabel('Count')\n",
    "plt.show();"
   ]
  },
  {
   "cell_type": "markdown",
   "metadata": {
    "slideshow": {
     "slide_type": "slide"
    }
   },
   "source": [
    "#### The trend of more week users is replicated in the number of subscribers. No significant effect on the customers."
   ]
  },
  {
   "cell_type": "markdown",
   "metadata": {
    "slideshow": {
     "slide_type": "slide"
    }
   },
   "source": [
    "###  Did time of day have any effect of usage of the system between customers and subscribers?"
   ]
  },
  {
   "cell_type": "code",
   "execution_count": 302,
   "metadata": {
    "scrolled": true,
    "slideshow": {
     "slide_type": "subslide"
    }
   },
   "outputs": [
    {
     "data": {
      "image/png": "[encoded data removed]",
      "text/plain": [
       "<Figure size 648x360 with 1 Axes>"
      ]
     },
     "metadata": {},
     "output_type": "display_data"
    }
   ],
   "source": [
    "#increase plot size\n",
    "plt.figure(figsize=[9, 5])\n",
    "sb.set_theme(style='darkgrid')\n",
    "\n",
    "# plot relationship between start hour usage of customers and subscribers\n",
    "sb.countplot(data=bike_sharing_clean, x='start_hour', hue='user_type', palette = 'Set2')\n",
    "\n",
    "plt.legend(loc='center left', bbox_to_anchor=(1, 0.5),\n",
    "           title=\"User Type\", title_fontsize = 12);\n",
    "plt.title('Users at Different Hours', fontsize=14,  weight='bold')\n",
    "plt.xlabel('Week Hour');\n",
    "plt.ylabel('Count')\n",
    "plt.show;"
   ]
  },
  {
   "cell_type": "markdown",
   "metadata": {
    "slideshow": {
     "slide_type": "slide"
    }
   },
   "source": [
    "#### The peak hours are once again visible with customers hardly using the system during late night hours."
   ]
  },
  {
   "cell_type": "markdown",
   "metadata": {
    "slideshow": {
     "slide_type": "slide"
    }
   },
   "source": [
    "### Does age of member affect the duration of rides?"
   ]
  },
  {
   "cell_type": "code",
   "execution_count": null,
   "metadata": {
    "slideshow": {
     "slide_type": "subslide"
    }
   },
   "outputs": [],
   "source": [
    "#increase plot size\n",
    "plt.figure(figsize=[9, 5])\n",
    "sb.regplot(data=bike_sharing_clean, x = 'user_age', y = bike_sharing_clean['duration_minutes']/60, \n",
    "           x_jitter = 0.8, scatter_kws={'alpha':1/20})\n",
    "\n",
    "plt.title('Trip Duration by Age of Users', fontsize=14, weight='bold')\n",
    "plt.xlabel('Age of Users');\n",
    "plt.ylabel('Trip Hours')\n",
    "plt.show;"
   ]
  },
  {
   "cell_type": "markdown",
   "metadata": {
    "slideshow": {
     "slide_type": "slide"
    }
   },
   "source": [
    "#### The plot also indicates earlier perception of more ride hours between ages 20 and 40, followed by 40 to 50 years. This trend can be traced to average human energy levels at different stages of life."
   ]
  },
  {
   "cell_type": "markdown",
   "metadata": {
    "slideshow": {
     "slide_type": "slide"
    }
   },
   "source": [
    "### What gender had more trips than others?"
   ]
  },
  {
   "cell_type": "code",
   "execution_count": null,
   "metadata": {
    "scrolled": true,
    "slideshow": {
     "slide_type": "subslide"
    }
   },
   "outputs": [],
   "source": [
    "# to sample the data, a duration of just 90 minutes(1 hour 30 minutes) is taken which would enable a clear focus\n",
    "trip_duration = bike_sharing_clean.query(\"duration_minutes < 60\")\n",
    "\n",
    "# gender and duration plot\n",
    "base_color = sb.color_palette()[0]\n",
    "sb.violinplot(data=trip_duration, x='member_gender', y='duration_minutes', color=base_color)\n",
    "plt.xlabel('Gender')\n",
    "plt.ylabel('Duration (mins)')\n",
    "plt.title('Duration vs Gender Type', fontsize=14);"
   ]
  },
  {
   "cell_type": "markdown",
   "metadata": {
    "slideshow": {
     "slide_type": "slide"
    }
   },
   "source": [
    "#### Despite having more male users in previous visualization, the median trip appears to be at 10 minutes for women and the other type gender while men was slighly lower."
   ]
  },
  {
   "cell_type": "markdown",
   "metadata": {
    "slideshow": {
     "slide_type": "slide"
    }
   },
   "source": [
    "### How did the feature(s) of interest vary with other features in the dataset?\n",
    "\n",
    "> * Interestingly, age showed significant effect of ride hours.\n",
    "> * More males were disposed to using the system than any other gender.\n",
    "> * People within the age of 20 and 40 were likely to ride more hours than the older ones\n",
    "> * There are more subscribers than customers"
   ]
  },
  {
   "cell_type": "markdown",
   "metadata": {
    "slideshow": {
     "slide_type": "slide"
    }
   },
   "source": [
    "## Multivariate Exploration\n",
    "\n",
    "### Looking at User type relationship with all variables"
   ]
  },
  {
   "cell_type": "code",
   "execution_count": null,
   "metadata": {},
   "outputs": [],
   "source": [
    "sb.pairplot(bike_sharing_clean, hue='user_type', height=3)\n",
    "plt.show();"
   ]
  },
  {
   "cell_type": "markdown",
   "metadata": {},
   "source": [
    "### Does member status affect trip duration during weekdays or weekends more?"
   ]
  },
  {
   "cell_type": "code",
   "execution_count": null,
   "metadata": {
    "scrolled": true,
    "slideshow": {
     "slide_type": "subslide"
    }
   },
   "outputs": [],
   "source": [
    "# plot fig size\n",
    "fig = plt.figure(figsize = [8,6])\n",
    "\n",
    "# multivariate plot for week days, customer vs subscriber\n",
    "ax = sb.pointplot(data = bike_sharing_clean, x ='day_of_week', y = 'duration_minutes', hue = 'user_type', palette = 'Reds', linestyles = '', dodge = 0.2)\n",
    "\n",
    "plt.title('Trip Duration across week days and customer type'.title)\n",
    "plt.xlabel('Week days')\n",
    "plt.ylabel('Ride Duration (Minutes)')\n",
    "plt.ylim(0, 60)\n",
    "plt.show();"
   ]
  },
  {
   "cell_type": "markdown",
   "metadata": {},
   "source": [
    "#### Customers tend to embark on longer journeys than subscribers throughourt the week and even more on weekends"
   ]
  },
  {
   "cell_type": "markdown",
   "metadata": {},
   "source": [
    "### What is the relationship between member age, trip duration and gender?"
   ]
  },
  {
   "cell_type": "code",
   "execution_count": null,
   "metadata": {},
   "outputs": [],
   "source": [
    "#visualizing ride duration based of ages of members\n",
    "gender = sb.FacetGrid(data=bike_sharing_clean, col='member_gender', \n",
    "                     xlim= [10, 80], ylim = [10, 1500])\n",
    "gender.map(plt.scatter, 'user_age', 'duration_minutes', alpha=0.5)\n",
    "gender.set_xlabels('Age in (year)')\n",
    "gender.set_ylabels('Duration in (minutes)')\n",
    "\n",
    "plt.suptitle('Distribution of trip duration based on gender and age'.title(), \n",
    "            y=1, fontsize = 14, weight = 'bold')\n",
    "\n",
    "#set plot size\n",
    "gender.fig.set_size_inches(14, 8)\n",
    "plt.show();"
   ]
  },
  {
   "cell_type": "markdown",
   "metadata": {},
   "source": [
    "#### Female users within the age of 20 and 37 appear to have had longer trips whereas Male riders between 25 and 45 were having longer trips as compared to their female counterparts. The 'other' gender were fewer with significant people of about 30 and 55 years riding more."
   ]
  },
  {
   "cell_type": "markdown",
   "metadata": {
    "slideshow": {
     "slide_type": "slide"
    }
   },
   "source": [
    "### Were there features that strengthened each other in terms of looking at your feature(s) of interest?\n",
    "\n",
    "> Users who were customers appear to be embarking on more rides than subscribers. These customers spent more time during the weekends than week days. This could be attributed to weekend leisure activities. "
   ]
  },
  {
   "cell_type": "markdown",
   "metadata": {
    "slideshow": {
     "slide_type": "slide"
    }
   },
   "source": [
    "<a id='conclusions'></a>\n",
    "## Conclusions\n",
    "\n",
    "> Findings indicated that at rush hours of 8:00hrs and 17:00hrs most week days(mondays - fridays) witnessed the peak in usage of the bike system (Mon-Fri) compared to weekends. While there were frequent rides during the week days, the duration of the rides were shorter than that of the weekends which saw longer ride durations. Apparently, the usage within work days were specific while the weekends appear relaxed and casual. The shorter riders showed to be more of males, while females and other genders appeared to have longer rider durations.\n",
    "\n",
    "> The active age range for more frequent users of the bike system was between 20 and 40 years of age and as users age increased, rides dropped accordingly.  \n",
    "\n",
    "> In all, Subscribers were seen to be patronizing the system more than customers.\n"
   ]
  }
 ],
 "metadata": {
  "kernelspec": {
   "display_name": "Python 3 (ipykernel)",
   "language": "python",
   "name": "python3"
  },
  "language_info": {
   "codemirror_mode": {
    "name": "ipython",
    "version": 3
   },
   "file_extension": ".py",
   "mimetype": "text/x-python",
   "name": "python",
   "nbconvert_exporter": "python",
   "pygments_lexer": "ipython3",
   "version": "3.8.7"
  },
  "vscode": {
   "interpreter": {
    "hash": "8bd0ed02cac1913e585a0b6e765071635b99c80b8886d7dcf51b92cbba58a87e"
   }
  }
 },
 "nbformat": 4,
 "nbformat_minor": 2
}
